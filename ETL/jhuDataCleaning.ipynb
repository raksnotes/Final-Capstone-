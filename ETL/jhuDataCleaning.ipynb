{
 "cells": [
  {
   "cell_type": "code",
   "execution_count": null,
   "id": "c995ccce",
   "metadata": {},
   "outputs": [],
   "source": [
    "import pandas as pd\n",
    "import warnings\n",
    "warnings.filterwarnings('ignore')"
   ]
  },
  {
   "cell_type": "code",
   "execution_count": null,
   "id": "0db4e3b4",
   "metadata": {
    "scrolled": true
   },
   "outputs": [],
   "source": [
    "# Read in data- sourced: https://www.kaggle.com/datasets/headsortails/covid19-us-county-jhu-data-demographics\n",
    "# Loading in data, MUST LOAD COVID_US_COUNTY FROM GOOGLE LINK IN README\n",
    "\n",
    "\n",
    "cd = pd.read_csv(\"covid_us_county.csv\")\n",
    "cd"
   ]
  },
  {
   "cell_type": "code",
   "execution_count": null,
   "id": "4b575486",
   "metadata": {},
   "outputs": [],
   "source": [
    "# Checking length of FIPS, we should use FIPS instead of counties BECAUSE there may be duplicates of counties that we do not\n",
    "# want to lose information from!\n",
    "len(cd.fips.unique())"
   ]
  },
  {
   "cell_type": "code",
   "execution_count": null,
   "id": "c5954c5d",
   "metadata": {},
   "outputs": [],
   "source": [
    "# Getting total amount of cases and deaths macro view\n",
    "cc = cd.groupby('fips').agg(\n",
    "    {'cases': 'max', 'deaths': 'max', 'lat': 'max', 'long': 'max', 'county': 'max'})"
   ]
  },
  {
   "cell_type": "code",
   "execution_count": null,
   "id": "d6175c1f",
   "metadata": {},
   "outputs": [],
   "source": [
    "cc"
   ]
  },
  {
   "cell_type": "code",
   "execution_count": null,
   "id": "57ffd2ba",
   "metadata": {},
   "outputs": [],
   "source": [
    "# Dropping rows where NAN\n",
    "cc = cc.dropna()\n",
    "cc"
   ]
  },
  {
   "cell_type": "code",
   "execution_count": null,
   "id": "02e27651",
   "metadata": {},
   "outputs": [],
   "source": [
    "# Dropping rows where Unassigned exists under county (if we ever need those covid numbers we can come back and pull them if we want \n",
    "# but meh)\n",
    "cc = cc[cc.county != 'Unassigned']"
   ]
  },
  {
   "cell_type": "code",
   "execution_count": null,
   "id": "2c4f04f8",
   "metadata": {},
   "outputs": [],
   "source": [
    "cc "
   ]
  },
  {
   "cell_type": "code",
   "execution_count": null,
   "id": "9db393af",
   "metadata": {},
   "outputs": [],
   "source": [
    "# Dropping \"Out of\" rows. :/ there is also a df.column.str.endswith as well.\n",
    "\n",
    "cc = cc[~cc.county.str.startswith('Out of')]"
   ]
  },
  {
   "cell_type": "code",
   "execution_count": null,
   "id": "5177485b",
   "metadata": {},
   "outputs": [],
   "source": [
    "cc"
   ]
  },
  {
   "cell_type": "code",
   "execution_count": null,
   "id": "eab0563d",
   "metadata": {},
   "outputs": [],
   "source": [
    "pd.set_option('display.max_rows', None)"
   ]
  },
  {
   "cell_type": "code",
   "execution_count": null,
   "id": "2bc23be7",
   "metadata": {},
   "outputs": [],
   "source": [
    "cc.head()"
   ]
  },
  {
   "cell_type": "code",
   "execution_count": null,
   "id": "b1be872d",
   "metadata": {},
   "outputs": [],
   "source": [
    "## realizing i need to reset the index\n",
    "cc.columns"
   ]
  },
  {
   "cell_type": "code",
   "execution_count": null,
   "id": "50e66eca",
   "metadata": {},
   "outputs": [],
   "source": [
    "## Resetting index, matches other dfs how convenient (will have to perform a merge and ditch rows that don't match other df tho\n",
    "# in next iteration)\n",
    "cc.reset_index(inplace= True)"
   ]
  },
  {
   "cell_type": "code",
   "execution_count": null,
   "id": "36031a41",
   "metadata": {},
   "outputs": [],
   "source": [
    "cc.head()"
   ]
  },
  {
   "cell_type": "code",
   "execution_count": null,
   "id": "4e5794b9",
   "metadata": {},
   "outputs": [],
   "source": [
    "# checking columns\n",
    "cc.columns"
   ]
  },
  {
   "cell_type": "code",
   "execution_count": null,
   "id": "b974ab4c",
   "metadata": {},
   "outputs": [],
   "source": [
    "# column rename\n",
    "cc = cc.rename(columns={'fips': 'FIPS', 'cases': 'Cases',\n",
    "               'deaths': 'Deaths', 'lat': 'Lat', 'long': 'Long', 'county': 'County'})"
   ]
  },
  {
   "cell_type": "code",
   "execution_count": null,
   "id": "7cc4fc26",
   "metadata": {},
   "outputs": [],
   "source": [
    "cc.head()"
   ]
  },
  {
   "cell_type": "code",
   "execution_count": null,
   "id": "7fd30a07",
   "metadata": {},
   "outputs": [],
   "source": [
    "# Formatting\n",
    "cc.dtypes"
   ]
  },
  {
   "cell_type": "code",
   "execution_count": null,
   "id": "f7fd1149",
   "metadata": {},
   "outputs": [],
   "source": [
    "# Changing FIPS to int\n",
    "cc = cc.astype({\"FIPS\": \"int\"})\n",
    "cc.head()"
   ]
  },
  {
   "cell_type": "code",
   "execution_count": null,
   "id": "757fb359",
   "metadata": {},
   "outputs": [],
   "source": [
    "cc.to_csv('JHU_Covid_Cases_Processing_Complete.csv')"
   ]
  },
  {
   "cell_type": "code",
   "execution_count": null,
   "id": "f51c5e87",
   "metadata": {},
   "outputs": [],
   "source": []
  }
 ],
 "metadata": {
  "kernelspec": {
   "display_name": "mlenv",
   "language": "python",
   "name": "mlenv"
  },
  "language_info": {
   "codemirror_mode": {
    "name": "ipython",
    "version": 3
   },
   "file_extension": ".py",
   "mimetype": "text/x-python",
   "name": "python",
   "nbconvert_exporter": "python",
   "pygments_lexer": "ipython3",
   "version": "3.10.9"
  }
 },
 "nbformat": 4,
 "nbformat_minor": 5
}
