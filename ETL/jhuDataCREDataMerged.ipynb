{
 "cells": [
  {
   "cell_type": "code",
   "execution_count": null,
   "id": "b1e13c15",
   "metadata": {},
   "outputs": [],
   "source": [
    "import pandas as pd\n",
    "import warnings\n",
    "warnings.filterwarnings('ignore')"
   ]
  },
  {
   "cell_type": "code",
   "execution_count": null,
   "id": "f1874d41",
   "metadata": {},
   "outputs": [],
   "source": [
    "# Loading in data, MUST LOAD COVID_US_COUNTY FROM GOOGLE LINK IN README\n",
    "cr = pd.read_csv('FIP_concat_CRE_to_JHU.csv')\n",
    "# jhu = pd.read_csv('JHU_Covid_Cases_Processing_Complete.csv')\n",
    "jhu_cd = pd.read_csv(\"covid_us_county.csv\")\n",
    "pd.set_option('display.max_rows', None)\n",
    "# Realized that there may be some int and NANs that are in the CRE data with FIPS BUT NOT in the data I cleaened for JHU_Covid cases\n",
    "# file. Went ahead and recleaend what was necessary to do a merge, then will drop NANs and any Unassigned values as I see them"
   ]
  },
  {
   "cell_type": "code",
   "execution_count": null,
   "id": "aada8036",
   "metadata": {},
   "outputs": [],
   "source": [
    "cr.dtypes"
   ]
  },
  {
   "cell_type": "code",
   "execution_count": null,
   "id": "61d51bec",
   "metadata": {},
   "outputs": [],
   "source": [
    "jhu_cd.dtypes"
   ]
  },
  {
   "cell_type": "code",
   "execution_count": null,
   "id": "e387c1e3",
   "metadata": {},
   "outputs": [],
   "source": [
    "jhu_cd = jhu_cd.groupby('fips').agg(\n",
    "    {'cases': 'max', 'deaths': 'max', 'lat': 'max', 'long': 'max', 'county': 'max'})\n",
    "jhu_cd.head()"
   ]
  },
  {
   "cell_type": "code",
   "execution_count": null,
   "id": "00e98a35",
   "metadata": {},
   "outputs": [],
   "source": [
    "# resetting index\n",
    "jhu_cd.reset_index(inplace=True)"
   ]
  },
  {
   "cell_type": "code",
   "execution_count": null,
   "id": "96e82cd5",
   "metadata": {},
   "outputs": [],
   "source": [
    "# renaming cols\n",
    "jhu_cd = jhu_cd.rename(columns={'fips': 'FIPS', 'cases': 'Cases',\n",
    "                       'deaths': 'Deaths', 'lat': 'Lat', 'long': 'Long', 'county': 'County'})\n",
    "jhu_cd.head()"
   ]
  },
  {
   "cell_type": "code",
   "execution_count": null,
   "id": "d13c19c4",
   "metadata": {},
   "outputs": [],
   "source": [
    "mergedRes = pd.merge(jhu_cd, cr, on='FIPS')"
   ]
  },
  {
   "cell_type": "code",
   "execution_count": null,
   "id": "95b081f8",
   "metadata": {},
   "outputs": [],
   "source": [
    "mergedRes.head()"
   ]
  },
  {
   "cell_type": "code",
   "execution_count": null,
   "id": "547190cf",
   "metadata": {},
   "outputs": [],
   "source": [
    "# creating a drop column list and dropping\n",
    "dcols = ['Unnamed: 0', 'County_x']\n",
    "mergedRes.drop(columns=dcols, axis=1, inplace=True)"
   ]
  },
  {
   "cell_type": "code",
   "execution_count": null,
   "id": "610154e4",
   "metadata": {},
   "outputs": [],
   "source": [
    "mergedRes.head()"
   ]
  },
  {
   "cell_type": "code",
   "execution_count": null,
   "id": "b71db53d",
   "metadata": {},
   "outputs": [],
   "source": [
    "JHU_CRE = mergedRes.rename(columns={'County_y': 'County'})"
   ]
  },
  {
   "cell_type": "code",
   "execution_count": null,
   "id": "378b6ba6",
   "metadata": {},
   "outputs": [],
   "source": [
    "JHU_CRE.head()"
   ]
  },
  {
   "cell_type": "code",
   "execution_count": null,
   "id": "fb5e6df1",
   "metadata": {},
   "outputs": [],
   "source": [
    "JHU_CRE.isnull().sum()"
   ]
  },
  {
   "cell_type": "code",
   "execution_count": null,
   "id": "67a03a56",
   "metadata": {},
   "outputs": [],
   "source": [
    "JHU_CRE.isna().sum()"
   ]
  },
  {
   "cell_type": "code",
   "execution_count": null,
   "id": "ba70cd68",
   "metadata": {},
   "outputs": [],
   "source": [
    "# Making sure none of the FIPS that contained \"Out of\" or \"Unassigned\" are in the county column\n",
    "JHU_CRE = JHU_CRE[~JHU_CRE.County.str.startswith('Out of')]"
   ]
  },
  {
   "cell_type": "code",
   "execution_count": null,
   "id": "42a69357",
   "metadata": {},
   "outputs": [],
   "source": [
    "# This is a good sign\n",
    "print(len(JHU_CRE))"
   ]
  },
  {
   "cell_type": "code",
   "execution_count": null,
   "id": "04c53f28",
   "metadata": {},
   "outputs": [],
   "source": [
    "JHU_CRE = JHU_CRE[JHU_CRE.County != 'Unassigned']"
   ]
  },
  {
   "cell_type": "code",
   "execution_count": null,
   "id": "9e41cf94",
   "metadata": {},
   "outputs": [],
   "source": [
    "JHU_CRE.head()"
   ]
  },
  {
   "cell_type": "code",
   "execution_count": null,
   "id": "f1357562",
   "metadata": {},
   "outputs": [],
   "source": [
    "# checking columns\n",
    "JHU_CRE.columns"
   ]
  },
  {
   "cell_type": "code",
   "execution_count": null,
   "id": "2f42edcf",
   "metadata": {},
   "outputs": [],
   "source": [
    "# Renaming columns\n",
    "ndf = JHU_CRE.rename(columns={'FIPS': 'fips', 'Lat': 'lat', 'Long': 'long', 'State': 'state', 'County': 'county', 'Cases': 'cases', 'Deaths': 'deaths', 'POPUNI': 'popuni', 'Total_Population': 'total_population',\n",
    "                              'Zero_RF': 'zero_rf', 'One-Two_RF': 'one_two_rf', 'Three_RF': 'three_rf', 'Housing_Units': 'housing_units', 'Hispanic_Pop': 'hispanic_pop', 'White_Pop': 'white_pop', 'Black_Pop': 'black_pop', 'Native_Pop': 'native_pop',\n",
    "                              'Asian_Pop': 'asian_pop', 'Pacific_Islander_Pop': 'pacific_islander_pop', 'Other_race_Pop': 'other_race_pop', 'Bi_Tri_Racial_Pop': 'bi_tri_racial_pop', 'Male_Pop': 'male_pop', 'Female_Pop': 'female_pop', 'Veteran': 'veteran',\n",
    "                              'Gini_Ind_Income': 'gini_ind_income', 'Rural_Pop': 'rural_pop', 'Median_Age_Pop': 'median_age_pop', 'Age_65+_Pop': 'elder_pop', 'Disability_Pop': 'disability_pop', 'Below_Poverty_Level': 'below_poverty_level', 'Single_Mothers_Pop': 'single_mothers_pop',\n",
    "                              'Single_Fathers_Pop': 'single_fathers_pop', '1.51_plus_family_homes': 'plus_family_homes', 'HighSchool_Grad': 'highschool_grad', 'Multilingual_5yrs_Plus': 'multilingual_5yrs_plus', 'Full_time_workers': 'full_time_workers', 'No_Health_Insur': 'no_health_insur',\n",
    "                              'Internet_homes': 'internet_homes', 'No_Vehicle': 'no_vehicle', 'Homeowner_Vacancy': 'homeowner_vacancy', 'Rental_Vacancy': 'rental_vacancy'})"
   ]
  },
  {
   "cell_type": "code",
   "execution_count": null,
   "id": "d653f06b",
   "metadata": {
    "scrolled": true
   },
   "outputs": [],
   "source": [
    "ndf.head()"
   ]
  },
  {
   "cell_type": "code",
   "execution_count": null,
   "id": "683e520b",
   "metadata": {},
   "outputs": [],
   "source": [
    "# checking if rename worked\n",
    "ndf.columns"
   ]
  },
  {
   "cell_type": "code",
   "execution_count": null,
   "id": "f089d57f",
   "metadata": {},
   "outputs": [],
   "source": [
    "# checking datatypes\n",
    "ndf.dtypes"
   ]
  },
  {
   "cell_type": "code",
   "execution_count": null,
   "id": "ad341122",
   "metadata": {},
   "outputs": [],
   "source": [
    "# casting values as integers\n",
    "JHU_CRE2 = ndf.astype({\"fips\": int, \"zero_rf\": int, \"one_two_rf\": int, \"three_rf\": int,\n",
    "                       \"hispanic_pop\": int, \"white_pop\": int, \"black_pop\": int, \"native_pop\": int, \"asian_pop\": int,\n",
    "                       \"pacific_islander_pop\": int, \"other_race_pop\": int, \"bi_tri_racial_pop\": int, \"male_pop\": int,\n",
    "                       \"female_pop\": int, \"veteran\": int, \"gini_ind_income\": int, \"rural_pop\": int, \"median_age_pop\": int,\n",
    "                       \"elder_pop\": int, \"disability_pop\": int, \"below_poverty_level\": int, \"single_mothers_pop\": int,\n",
    "                       \"single_fathers_pop\": int, \"plus_family_homes\": int, \"highschool_grad\": int, \"multilingual_5yrs_plus\": int,\n",
    "                       \"full_time_workers\": int, \"no_health_insur\": int, \"internet_homes\": int, \"no_vehicle\": int, \"homeowner_vacancy\": int,\n",
    "                       \"rental_vacancy\": int, \"housing_units\": int})"
   ]
  },
  {
   "cell_type": "code",
   "execution_count": null,
   "id": "5d11b801",
   "metadata": {},
   "outputs": [],
   "source": [
    "JHU_CRE2.dtypes"
   ]
  },
  {
   "cell_type": "code",
   "execution_count": null,
   "id": "3f1d9cbb",
   "metadata": {},
   "outputs": [],
   "source": [
    "JHU_CRE2.to_csv('JHU_Cases_Deaths_with_CRE_Data_2_0.csv', index = False)"
   ]
  },
  {
   "cell_type": "code",
   "execution_count": null,
   "id": "275ea0cf",
   "metadata": {},
   "outputs": [],
   "source": []
  }
 ],
 "metadata": {
  "kernelspec": {
   "display_name": "mlenv",
   "language": "python",
   "name": "mlenv"
  },
  "language_info": {
   "codemirror_mode": {
    "name": "ipython",
    "version": 3
   },
   "file_extension": ".py",
   "mimetype": "text/x-python",
   "name": "python",
   "nbconvert_exporter": "python",
   "pygments_lexer": "ipython3",
   "version": "3.10.9"
  }
 },
 "nbformat": 4,
 "nbformat_minor": 5
}
