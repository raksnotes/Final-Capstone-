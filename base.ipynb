{
 "cells": [
  {
   "cell_type": "code",
   "execution_count": 1,
   "id": "6ecdcc6a",
   "metadata": {},
   "outputs": [],
   "source": [
    "import pandas as pd\n",
    "import sqlalchemy\n",
    "from sqlalchemy.ext.automap import automap_base\n",
    "from sqlalchemy.orm import Session\n",
    "from sqlalchemy import create_engine, func\n",
    "from flask import Flask, jsonify\n",
    "from sqlalchemy.engine import url\n",
    "import json\n",
    "from sqlalchemy import extract\n",
    "from sqlalchemy.engine import make_url\n",
    "from sqlalchemy.orm import sessionmaker\n",
    "from sqlalchemy.sql import text\n",
    "import psycopg2"
   ]
  },
  {
   "cell_type": "code",
   "execution_count": 2,
   "id": "45829a53",
   "metadata": {},
   "outputs": [],
   "source": [
    "with open('config_copy.json') as datafile:\n",
    "    data = json.load(datafile)\n",
    "\n",
    "env = data['dev']"
   ]
  },
  {
   "cell_type": "code",
   "execution_count": 3,
   "id": "07062cc8",
   "metadata": {},
   "outputs": [],
   "source": [
    "db = env['db']\n",
    "user = env['user']\n",
    "password = env['pass']\n",
    "port = env['port']\n",
    "host = env['host']"
   ]
  },
  {
   "cell_type": "code",
   "execution_count": 4,
   "id": "3aa1fa44",
   "metadata": {},
   "outputs": [],
   "source": [
    "engine = sqlalchemy.create_engine(f'postgresql://{user}:{password}@{host}:{port}/{db}')"
   ]
  },
  {
   "cell_type": "code",
   "execution_count": 5,
   "id": "f66aafa3",
   "metadata": {},
   "outputs": [],
   "source": [
    "Base = automap_base()"
   ]
  },
  {
   "cell_type": "code",
   "execution_count": 6,
   "id": "218ad582",
   "metadata": {},
   "outputs": [],
   "source": [
    "Base.prepare(autoload_with = engine)"
   ]
  },
  {
   "cell_type": "code",
   "execution_count": 7,
   "id": "65ab903c",
   "metadata": {},
   "outputs": [
    {
     "data": {
      "text/plain": [
       "['jhu_cre_cases_deaths', 'location']"
      ]
     },
     "execution_count": 7,
     "metadata": {},
     "output_type": "execute_result"
    }
   ],
   "source": [
    "Base.classes.keys()"
   ]
  },
  {
   "cell_type": "code",
   "execution_count": 8,
   "id": "f46d735a",
   "metadata": {},
   "outputs": [],
   "source": [
    "location = Base.classes.location"
   ]
  },
  {
   "cell_type": "code",
   "execution_count": 9,
   "id": "b0b7806b",
   "metadata": {},
   "outputs": [],
   "source": [
    "jhu_data = Base.classes.jhu_cre_cases_deaths"
   ]
  },
  {
   "cell_type": "code",
   "execution_count": 10,
   "id": "f40f98ca",
   "metadata": {},
   "outputs": [],
   "source": [
    "Session = sessionmaker(bind = engine)\n",
    "\n",
    "session = Session()"
   ]
  },
  {
   "cell_type": "code",
   "execution_count": 11,
   "id": "bef34181",
   "metadata": {},
   "outputs": [],
   "source": [
    "sql = session.query(jhu_data)"
   ]
  },
  {
   "cell_type": "code",
   "execution_count": 12,
   "id": "d2642b41",
   "metadata": {},
   "outputs": [],
   "source": [
    "jhucredf = pd.DataFrame(engine.connect().execute(text(str(sql))))"
   ]
  },
  {
   "cell_type": "code",
   "execution_count": 13,
   "id": "206c36ea",
   "metadata": {},
   "outputs": [
    {
     "data": {
      "text/html": [
       "<div>\n",
       "<style scoped>\n",
       "    .dataframe tbody tr th:only-of-type {\n",
       "        vertical-align: middle;\n",
       "    }\n",
       "\n",
       "    .dataframe tbody tr th {\n",
       "        vertical-align: top;\n",
       "    }\n",
       "\n",
       "    .dataframe thead th {\n",
       "        text-align: right;\n",
       "    }\n",
       "</style>\n",
       "<table border=\"1\" class=\"dataframe\">\n",
       "  <thead>\n",
       "    <tr style=\"text-align: right;\">\n",
       "      <th></th>\n",
       "    </tr>\n",
       "  </thead>\n",
       "  <tbody>\n",
       "  </tbody>\n",
       "</table>\n",
       "</div>"
      ],
      "text/plain": [
       "Empty DataFrame\n",
       "Columns: []\n",
       "Index: []"
      ]
     },
     "execution_count": 13,
     "metadata": {},
     "output_type": "execute_result"
    }
   ],
   "source": [
    "jhucredf"
   ]
  }
 ],
 "metadata": {
  "kernelspec": {
   "display_name": "Python 3 (ipykernel)",
   "language": "python",
   "name": "python3"
  },
  "language_info": {
   "codemirror_mode": {
    "name": "ipython",
    "version": 3
   },
   "file_extension": ".py",
   "mimetype": "text/x-python",
   "name": "python",
   "nbconvert_exporter": "python",
   "pygments_lexer": "ipython3",
   "version": "3.9.13"
  }
 },
 "nbformat": 4,
 "nbformat_minor": 5
}
